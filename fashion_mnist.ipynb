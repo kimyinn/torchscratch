{
  "nbformat": 4,
  "nbformat_minor": 0,
  "metadata": {
    "colab": {
      "name": "fashion_mnist.ipynb",
      "version": "0.3.2",
      "provenance": []
    },
    "kernelspec": {
      "name": "python3",
      "display_name": "Python 3"
    },
    "accelerator": "GPU"
  },
  "cells": [
    {
      "metadata": {
        "id": "SZnJVFUfuFFV",
        "colab_type": "text"
      },
      "cell_type": "markdown",
      "source": [
        "https://towardsdatascience.com/training-convolutional-neural-networks-to-categorize-clothing-with-pytorch-30b6d399f05f"
      ]
    },
    {
      "metadata": {
        "id": "T7CQMN3itJP1",
        "colab_type": "code",
        "colab": {}
      },
      "cell_type": "code",
      "source": [
        "#Importing libraries\n",
        "import torch\n",
        "import torchvision\n",
        "import torchvision.transforms as transforms\n",
        "import torchvision.datasets as datasets\n",
        "import torch.nn as nn\n",
        "import torch.nn.functional as F\n",
        "from torch.autograd import Variable"
      ],
      "execution_count": 0,
      "outputs": []
    },
    {
      "metadata": {
        "id": "mU7iMJabtKWy",
        "colab_type": "code",
        "colab": {}
      },
      "cell_type": "code",
      "source": [
        "#Initializing hyperparameters\n",
        "num_epochs = 8\n",
        "num_classes = 10\n",
        "batch_size = 100\n",
        "learning_rate = 0.001"
      ],
      "execution_count": 0,
      "outputs": []
    },
    {
      "metadata": {
        "id": "EhQ-YNQztRY9",
        "colab_type": "code",
        "colab": {}
      },
      "cell_type": "code",
      "source": [
        "#Loading dataset\n",
        "transform = transforms.Compose([transforms.ToTensor(),\n",
        "                                transforms.Normalize((0.5,0.5,0.5), (0.5,0.5,0.5))])\n",
        "\n",
        "train_dataset = datasets.FashionMNIST(root='./data', \n",
        "                            train=True, \n",
        "                            download=True,\n",
        "                            transform=transform)\n",
        "\n",
        "test_dataset = datasets.FashionMNIST(root='./data', \n",
        "                           train=False, \n",
        "                           download=True,\n",
        "                           transform=transform)"
      ],
      "execution_count": 0,
      "outputs": []
    },
    {
      "metadata": {
        "id": "DF85VO42tYQo",
        "colab_type": "code",
        "colab": {}
      },
      "cell_type": "code",
      "source": [
        "#Loading dataset into dataloader\n",
        "train_loader = torch.utils.data.DataLoader(dataset=train_dataset, \n",
        "                                           batch_size=batch_size, \n",
        "                                           shuffle=True)\n",
        "\n",
        "test_loader = torch.utils.data.DataLoader(dataset=test_dataset, \n",
        "                                          batch_size=batch_size, \n",
        "                                          shuffle=False)"
      ],
      "execution_count": 0,
      "outputs": []
    },
    {
      "metadata": {
        "id": "m1T7vKdztZV1",
        "colab_type": "code",
        "colab": {}
      },
      "cell_type": "code",
      "source": [
        "\n",
        "#Defining the network          \n",
        "class CNNModel(nn.Module):\n",
        "    def __init__(self):\n",
        "      super(CNNModel, self).__init__()\n",
        "\n",
        "      #Convolution 1\n",
        "      self.cnn1 = nn.Conv2d(in_channels=1, out_channels=16, kernel_size=5, stride=1, padding=2)\n",
        "      self.relu1 = nn.ReLU()\n",
        "\n",
        "      #Max pool 1\n",
        "      self.maxpool1 = nn.MaxPool2d(kernel_size=2)\n",
        "\n",
        "      #Convolution 2\n",
        "      self.cnn2 = nn.Conv2d(in_channels=16, out_channels=32, kernel_size=5, stride=1, padding=2)\n",
        "      self.relu2 = nn.ReLU()\n",
        "\n",
        "      #Max pool 2\n",
        "      self.maxpool2 = nn.MaxPool2d(kernel_size=2)\n",
        "\n",
        "      #Dropout for regularization\n",
        "      self.dropout = nn.Dropout(p=0.5)\n",
        "\n",
        "      #Fully Connected 1\n",
        "      self.fc1 = nn.Linear(32*7*7, 10)\n",
        " \n",
        "\n",
        "    def forward(self, x):\n",
        "        #Convolution 1\n",
        "        out = self.cnn1(x)\n",
        "        out = self.relu1(out)\n",
        "        \n",
        "        #Max pool 1\n",
        "        out = self.maxpool1(out)\n",
        "        \n",
        "        #Convolution 2\n",
        "        out = self.cnn2(out)\n",
        "        out = self.relu2(out)\n",
        "        \n",
        "        #Max pool 2\n",
        "        out = self.maxpool2(out)\n",
        "        \n",
        "        #Resize\n",
        "        out = out.view(out.size(0), -1)\n",
        "        \n",
        "        #Dropout\n",
        "        out = self.dropout(out)\n",
        "        \n",
        "        #Fully connected 1\n",
        "        out = self.fc1(out)\n",
        "        return out"
      ],
      "execution_count": 0,
      "outputs": []
    },
    {
      "metadata": {
        "id": "O7B2X4vmtzWs",
        "colab_type": "code",
        "colab": {}
      },
      "cell_type": "code",
      "source": [
        "\n",
        "#Create instance of model\n",
        "model = CNNModel()\n",
        "\n",
        "#Create instance of loss\n",
        "criterion = nn.CrossEntropyLoss()\n",
        "\n",
        "\n",
        "#Create instance of optimizer (Adam)\n",
        "optimizer = torch.optim.Adam(model.parameters(), lr=learning_rate)"
      ],
      "execution_count": 0,
      "outputs": []
    },
    {
      "metadata": {
        "id": "7XOg_R75t6nk",
        "colab_type": "code",
        "colab": {
          "base_uri": "https://localhost:8080/",
          "height": 191
        },
        "outputId": "02f4db27-5571-47d6-e9a7-62990bddc3b5"
      },
      "cell_type": "code",
      "source": [
        "#Train the model\n",
        "iter = 0\n",
        "for epoch in range(num_epochs):\n",
        "    for i, (images, labels) in enumerate(train_loader):\n",
        "        images = Variable(images)\n",
        "        labels = Variable(labels)\n",
        "        \n",
        "        #Clear the gradients\n",
        "        optimizer.zero_grad()\n",
        "        \n",
        "        #Forward propagation \n",
        "        outputs = model(images)      \n",
        "        \n",
        "        #Calculating loss with softmax to obtain cross entropy loss\n",
        "        loss = criterion(outputs, labels)\n",
        "        \n",
        "        #Backward propation\n",
        "        loss.backward()\n",
        "        \n",
        "        #Updating gradients\n",
        "        optimizer.step()\n",
        "        \n",
        "        iter += 1\n",
        "        \n",
        "        #Total number of labels\n",
        "        total = labels.size(0)\n",
        "        \n",
        "        #Obtaining predictions from max value\n",
        "        _, predicted = torch.max(outputs.data, 1)\n",
        "        \n",
        "        #Calculate the number of correct answers\n",
        "        correct = (predicted == labels).sum().item()\n",
        "        \n",
        "        #Print loss and accuracy\n",
        "        if (i + 1) % 100 == 0:\n",
        "            print('Epoch [{}/{}], Step [{}/{}], Loss: {:.4f}, Accuracy: {:.2f}%'\n",
        "                  .format(epoch + 1, num_epochs, i + 1, len(train_loader), loss.item(),\n",
        "                          (correct / total) * 100))"
      ],
      "execution_count": 0,
      "outputs": [
        {
          "output_type": "stream",
          "text": [
            "Epoch [1/8], Step [100/600], Loss: 0.2836, Accuracy: 93.00%\n",
            "Epoch [1/8], Step [200/600], Loss: 0.0931, Accuracy: 97.00%\n",
            "Epoch [1/8], Step [300/600], Loss: 0.3168, Accuracy: 93.00%\n",
            "Epoch [1/8], Step [400/600], Loss: 0.1845, Accuracy: 94.00%\n",
            "Epoch [1/8], Step [500/600], Loss: 0.0837, Accuracy: 97.00%\n",
            "Epoch [1/8], Step [600/600], Loss: 0.0639, Accuracy: 98.00%\n",
            "Epoch [2/8], Step [100/600], Loss: 0.1042, Accuracy: 95.00%\n",
            "Epoch [2/8], Step [200/600], Loss: 0.0489, Accuracy: 97.00%\n",
            "Epoch [2/8], Step [300/600], Loss: 0.0373, Accuracy: 99.00%\n",
            "Epoch [2/8], Step [400/600], Loss: 0.0488, Accuracy: 99.00%\n"
          ],
          "name": "stdout"
        }
      ]
    },
    {
      "metadata": {
        "id": "0HUPZq0vtsl4",
        "colab_type": "code",
        "colab": {}
      },
      "cell_type": "code",
      "source": [
        "#Testing the model\n",
        "with torch.no_grad():\n",
        "    correct = 0\n",
        "    total = 0\n",
        "    for images, labels in test_loader:\n",
        "        images = Variable(images)\n",
        "        labels = Variable(labels)\n",
        "        outputs = model(images)\n",
        "        _, predicted = torch.max(outputs.data, 1)\n",
        "        total += labels.size(0)\n",
        "        correct += (predicted == labels).sum().item()\n",
        "\n",
        "    print('Test Accuracy of the model on the 10000 test images: {} %'.format(100 * correct / total))\n"
      ],
      "execution_count": 0,
      "outputs": []
    }
  ]
}