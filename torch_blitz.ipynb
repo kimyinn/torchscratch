{
 "cells": [],
 "metadata": {},
 "nbformat": 4,
 "nbformat_minor": 1
}

https://course.fast.ai/start_colab.html#getting-set-up
